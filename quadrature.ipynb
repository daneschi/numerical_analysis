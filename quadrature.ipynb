{
 "cells": [
  {
   "cell_type": "markdown",
   "metadata": {},
   "source": [
    "### Numerical Quadrature\n",
    "\n",
    "Consider the following integral\n",
    "\n",
    "$$\n",
    "\\int_{x_{0}}^{x_{0}+h} e^{x}\\,dx = \\left[e^{x}\\right]^{x_{0}+h}_{x_{0}} = e^{(x_{0}+h)} - e^{x_{0}}\n",
    "$$\n",
    "\n",
    "with $x_{0}=0$ and $h_{0} = 1.0$"
   ]
  },
  {
   "cell_type": "code",
   "execution_count": 1,
   "metadata": {},
   "outputs": [],
   "source": [
    "import numpy as np\n",
    "import matplotlib.pyplot as plt"
   ]
  },
  {
   "cell_type": "code",
   "execution_count": 2,
   "metadata": {},
   "outputs": [],
   "source": [
    "def f(x):\n",
    "  ''' Implements function to integrate\n",
    "\n",
    "  :param x: independent variable\n",
    "  :type x: double or numpy array\n",
    "  :return: function value\n",
    "  :rtype: double or numpy array\n",
    "  '''\n",
    "  return np.exp(x)"
   ]
  },
  {
   "cell_type": "code",
   "execution_count": 3,
   "metadata": {},
   "outputs": [],
   "source": [
    "def midpoint_rule(fun,a,b,n):\n",
    "  ''' Implements the composite mid point rule \n",
    "      the simplest type of open Newton-Cotes\n",
    "      integration formula\n",
    "\n",
    "  :param fun: the function to integrate\n",
    "  :type fun: function\n",
    "  :param a: lower integration bound\n",
    "  :type a: double\n",
    "  :param b: upper integration bound\n",
    "  :type b: double\n",
    "  :param n: number of integration sub-intervals\n",
    "  :type n: integer\n",
    "  :return: the integral of fun over the interval [a,b]\n",
    "  :rtype: double\n",
    "  '''\n",
    "  h = (b-a)/n\n",
    "  res = 0.0\n",
    "  for i in range(n):\n",
    "    x0 = a+i*h + h/2.0\n",
    "    res += h*fun(x0)\n",
    "  return res\n",
    "\n",
    "def trapezoid_rule(fun,a,b,n):\n",
    "  ''' Implements the composite trapezoidal rule\n",
    "\n",
    "  :param fun: the function to integrate\n",
    "  :type fun: function\n",
    "  :param a: lower integration bound\n",
    "  :type a: double\n",
    "  :param b: upper integration bound\n",
    "  :type b: double\n",
    "  :param n: number of integration sub-intervals\n",
    "  :type n: integer\n",
    "  :return: the integral of fun over the interval [a,b]\n",
    "  :rtype: double\n",
    "  '''\n",
    "  h = (b-a)/n\n",
    "  res = 0.0\n",
    "  for i in range(n):\n",
    "    x0 = a+i*h\n",
    "    x1 = a+(i+1)*h\n",
    "    res += (h/2)*(fun(x0) + fun(x1))\n",
    "  return res\n",
    "\n",
    "def simpson_rule(fun,a,b,n):\n",
    "  ''' Implements the composite Simpson's rule\n",
    "\n",
    "  :param fun: the function to integrate\n",
    "  :type fun: function\n",
    "  :param a: lower integration bound\n",
    "  :type a: double\n",
    "  :param b: upper integration bound\n",
    "  :type b: double\n",
    "  :param n: number of integration sub-intervals\n",
    "  :type n: integer\n",
    "  :return: the integral of fun over the interval [a,b]\n",
    "  :rtype: double\n",
    "  '''\n",
    "  h = (b-a)/n\n",
    "  res = 0.0\n",
    "  for i in range(n):\n",
    "    x0 = a+i*h\n",
    "    x1 = a+i*h + h/2\n",
    "    x2 = a+(i+1)*h\n",
    "    res += (h/6)*(fun(x0) + 4*fun(x1) + fun(x2))\n",
    "  return res\n",
    "\n",
    "def gauss_legendre_2pt_rule(fun,a,b,n):\n",
    "  ''' Implements the 2-point Gauss-Legendre \n",
    "      quadrature rule\n",
    "\n",
    "  :param fun: the function to integrate\n",
    "  :type fun: function\n",
    "  :param a: lower integration bound\n",
    "  :type a: double\n",
    "  :param b: upper integration bound\n",
    "  :type b: double\n",
    "  :param n: number of integration sub-intervals\n",
    "  :type n: integer\n",
    "  :return: the integral of fun over the interval [a,b]\n",
    "  :rtype: double\n",
    "  '''\n",
    "  h = (b-a)/n\n",
    "  res = 0.0\n",
    "  for i in range(n):\n",
    "    x0 = a + i*h + (1-np.sqrt(3)/3.0)*(h/2)\n",
    "    x1 = a + i*h + (1+np.sqrt(3)/3.0)*(h/2)\n",
    "    res += (h/2)*(fun(x0) + fun(x1))\n",
    "  return res\n",
    "\n",
    "def gauss_legendre_3pt_rule(fun,a,b,n):\n",
    "  ''' Implements the 3-point Gauss-Legendre \n",
    "      quadrature rule\n",
    "\n",
    "  :param fun: the function to integrate\n",
    "  :type fun: function\n",
    "  :param a: lower integration bound\n",
    "  :type a: double\n",
    "  :param b: upper integration bound\n",
    "  :type b: double\n",
    "  :param n: number of integration sub-intervals\n",
    "  :type n: integer\n",
    "  :return: the integral of fun over the interval [a,b]\n",
    "  :rtype: double\n",
    "  '''\n",
    "  h = (b-a)/n\n",
    "  res = 0.0\n",
    "  for i in range(n):\n",
    "    x0 = a + i*h + (1-np.sqrt(3.0/5.0))*(h/2.0)\n",
    "    x1 = a + i*h + h/2\n",
    "    x2 = a + i*h + (1+np.sqrt(3.0/5.0))*(h/2.0)\n",
    "    res += (h/18.0)*(5.0*fun(x0) + 8.0*fun(x1) + 5.0*fun(x2))\n",
    "  return res"
   ]
  },
  {
   "cell_type": "markdown",
   "metadata": {},
   "source": [
    "Now we consider the interval $[x_{0},x_{0}+h]$ starting from $h_{0}=1$ and we reduce progressively the size of the interval."
   ]
  },
  {
   "cell_type": "code",
   "execution_count": 4,
   "metadata": {},
   "outputs": [
    {
     "data": {
      "image/png": "[encoded data removed]",
      "text/plain": [
       "<Figure size 432x288 with 1 Axes>"
      ]
     },
     "metadata": {
      "needs_background": "light"
     },
     "output_type": "display_data"
    }
   ],
   "source": [
    "a = 0.0\n",
    "integral_res = np.zeros((5,7))\n",
    "for i in range(5):\n",
    "  n = 2**i\n",
    "  b = 1.0/n  \n",
    "  h = b\n",
    "  integral_res[i,0] = midpoint_rule(f,a,b,n)\n",
    "  integral_res[i,1] = trapezoid_rule(f,a,b,n)\n",
    "  integral_res[i,2] = simpson_rule(f,a,b,n)\n",
    "  integral_res[i,3] = gauss_legendre_2pt_rule(f,a,b,n)\n",
    "  integral_res[i,4] = gauss_legendre_3pt_rule(f,a,b,n)\n",
    "  integral_res[i,5] = 1/h\n",
    "  integral_res[i,6] = np.exp(h)-1.0\n",
    "\n",
    "for loopA in range(5):\n",
    "  plt.loglog(integral_res[:,5],np.abs(integral_res[:,loopA]-integral_res[:,6]),'o-')\n",
    "hh = np.array([4.,8.])\n",
    "yy2 = 1000.0*hh**(-2)\n",
    "yy4 = 100.0*hh**(-4)\n",
    "yy5 = 10.0*hh**(-5)  \n",
    "yy6 = 1.0*hh**(-6)  \n",
    "yy7 = 0.1*hh**(-7)  \n",
    "plt.loglog(hh,yy2,'--')\n",
    "plt.loglog(hh,yy4,'-.')\n",
    "plt.loglog(hh,yy5,'-.')\n",
    "plt.loglog(hh,yy6,'-.')\n",
    "plt.loglog(hh,yy7,'-.')\n",
    "plt.show()"
   ]
  },
  {
   "cell_type": "markdown",
   "metadata": {},
   "source": [
    "We now fix the lower and upper integration bounds and prograssively increase the number $n$ of sub-intervals."
   ]
  },
  {
   "cell_type": "code",
   "execution_count": 5,
   "metadata": {},
   "outputs": [
    {
     "data": {
      "image/png": "[encoded data removed]",
      "text/plain": [
       "<Figure size 432x288 with 1 Axes>"
      ]
     },
     "metadata": {
      "needs_background": "light"
     },
     "output_type": "display_data"
    }
   ],
   "source": [
    "a = 0.0\n",
    "b = 1.0\n",
    "integral_res = np.zeros((6,7))\n",
    "for i in range(6):\n",
    "  n = 2**i\n",
    "  h = (b-a)/n\n",
    "  integral_res[i,0] = midpoint_rule(f,a,b,n)\n",
    "  integral_res[i,1] = trapezoid_rule(f,a,b,n)\n",
    "  integral_res[i,2] = simpson_rule(f,a,b,n)\n",
    "  integral_res[i,3] = gauss_legendre_2pt_rule(f,a,b,n)\n",
    "  integral_res[i,4] = gauss_legendre_3pt_rule(f,a,b,n)\n",
    "  integral_res[i,5] = n\n",
    "  integral_res[i,6] = 1/h\n",
    "\n",
    "for loopA in range(5):\n",
    "  plt.loglog(integral_res[1:,6],np.abs(integral_res[1:,loopA]-(np.exp(1)-1.0)),'o-')\n",
    "hh = np.array([4.,8.])\n",
    "yy2 = 1000.0*hh**(-2)\n",
    "yy4 = 100.0*hh**(-4)\n",
    "yy5 = 10.0*hh**(-5)  \n",
    "yy6 = 1.0*hh**(-6)  \n",
    "yy7 = 0.1*hh**(-7)  \n",
    "plt.loglog(hh,yy2,'--')\n",
    "plt.loglog(hh,yy4,'-.')\n",
    "plt.loglog(hh,yy5,'-.')\n",
    "plt.loglog(hh,yy6,'-.')\n",
    "plt.loglog(hh,yy7,'-.')\n",
    "plt.show()"
   ]
  },
  {
   "cell_type": "markdown",
   "metadata": {},
   "source": []
  }
 ],
 "metadata": {
  "interpreter": {
   "hash": "916dbcbb3f70747c44a77c7bcd40155683ae19c65e1c03b4aa3499c5328201f1"
  },
  "kernelspec": {
   "display_name": "Python 3.8.10 64-bit",
   "language": "python",
   "name": "python3"
  },
  "language_info": {
   "codemirror_mode": {
    "name": "ipython",
    "version": 3
   },
   "file_extension": ".py",
   "mimetype": "text/x-python",
   "name": "python",
   "nbconvert_exporter": "python",
   "pygments_lexer": "ipython3",
   "version": "3.8.10"
  },
  "orig_nbformat": 4
 },
 "nbformat": 4,
 "nbformat_minor": 2
}
