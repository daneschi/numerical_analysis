{
 "cells": [
  {
   "cell_type": "markdown",
   "metadata": {},
   "source": [
    "### Lagrange interpolation using Newton's divided differences"
   ]
  },
  {
   "cell_type": "code",
   "execution_count": 15,
   "metadata": {},
   "outputs": [],
   "source": [
    "import numpy as np\n",
    "import matplotlib.pyplot as plt"
   ]
  },
  {
   "cell_type": "code",
   "execution_count": 16,
   "metadata": {},
   "outputs": [],
   "source": [
    "def f(x):\n",
    "  '''The function to be interpolated\n",
    "\n",
    "  :param x: independent variable\n",
    "  :type x: double or np.array of doubles\n",
    "  :return: the value of f evaluated at x\n",
    "  :rtype: double or np.array\n",
    "  '''\n",
    "  return 1.0/(1.0+x)"
   ]
  },
  {
   "cell_type": "code",
   "execution_count": 17,
   "metadata": {},
   "outputs": [],
   "source": [
    "def newton_divdiff(x,node_x,node_y):\n",
    "  '''Generates an interpolating polynomial using the Newton's divided differences\n",
    "\n",
    "  :param x: the locations where the Newton's polynomials needs to be evaluated\n",
    "  :type x: double or np.array\n",
    "  :param node_x: the x values for the locations to be interpolated\n",
    "  :type node_x: list or np.array\n",
    "  :param node_y: the y values for the locations to be interpolated\n",
    "  :type node_y: list or np.array\n",
    "  :return: the interpolating polynomial at the provided x locations\n",
    "  :rtype: list or np.array\n",
    "  '''\n",
    "  n = len(node_x)-1\n",
    "  F = np.zeros((n+1,n+1))\n",
    "  F[:,0] = node_y\n",
    "  # Compute the coefficients of the Newton's polynomial\n",
    "  # and store them on the main diagonal of F\n",
    "  for i in range(1,n+1):\n",
    "    for j in range(1,i+1):\n",
    "      F[i,j] = (F[i,j-1] - F[i-1,j-1])/(node_x[i] - node_x[i-j])\n",
    "  # Generate the interpolating polynomial\n",
    "  poly = np.zeros(len(x))\n",
    "  for i in range(n+1):\n",
    "    # Compute the product of the x\n",
    "    prod_x = 1.0\n",
    "    for j in range(i):\n",
    "      prod_x *= (x-node_x[j])\n",
    "    poly += F[i,i]*prod_x\n",
    "  # Return the polynomial\n",
    "  return poly"
   ]
  },
  {
   "cell_type": "code",
   "execution_count": 21,
   "metadata": {},
   "outputs": [
    {
     "data": {
      "image/png": "[encoded data removed]",
      "text/plain": [
       "<Figure size 432x288 with 1 Axes>"
      ]
     },
     "metadata": {
      "needs_background": "light"
     },
     "output_type": "display_data"
    }
   ],
   "source": [
    "# Set locations for interpolation\n",
    "node_x = np.linspace(0.0,2.0,4)\n",
    "node_y = f(node_x)\n",
    "# Provided the x locations where to evaluate the interpolating polynomial\n",
    "x = np.linspace(0,2,100)\n",
    "# Construct the interpolant and plot it\n",
    "plt.plot(node_x,node_y,'go')\n",
    "plt.plot(x,f(x),'k--',label='function f')\n",
    "plt.plot(x,newton_divdiff(x,node_x,node_y),label='Lagrange interpolating polynomial')\n",
    "plt.legend()\n",
    "plt.show()"
   ]
  },
  {
   "cell_type": "code",
   "execution_count": null,
   "metadata": {},
   "outputs": [],
   "source": []
  }
 ],
 "metadata": {
  "interpreter": {
   "hash": "916dbcbb3f70747c44a77c7bcd40155683ae19c65e1c03b4aa3499c5328201f1"
  },
  "kernelspec": {
   "display_name": "Python 3.8.10 64-bit",
   "language": "python",
   "name": "python3"
  },
  "language_info": {
   "codemirror_mode": {
    "name": "ipython",
    "version": 3
   },
   "file_extension": ".py",
   "mimetype": "text/x-python",
   "name": "python",
   "nbconvert_exporter": "python",
   "pygments_lexer": "ipython3",
   "version": "3.8.10"
  },
  "orig_nbformat": 4
 },
 "nbformat": 4,
 "nbformat_minor": 2
}
