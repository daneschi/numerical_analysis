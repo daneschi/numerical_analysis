{
 "cells": [
  {
   "cell_type": "markdown",
   "metadata": {},
   "source": [
    "### Aitken $\\Delta^{2}$ Method\n",
    "\n",
    "The acceleration proposed by Aitken, generates a sequence \n",
    "$$\n",
    " \\hat{p}_{n} = p_{n} - \\dfrac{(p_{n+1}-p_{n})^2}{p_{n+2} - 2\\,p_{n+1}+p_{n}} = p_{n} - \\dfrac{(\\Delta p_{n})^{2}}{\\Delta^{2}\\,p_{n}}\n",
    "$$\n"
   ]
  },
  {
   "cell_type": "markdown",
   "metadata": {},
   "source": [
    "Consider the solution of the fixed point equation \n",
    "$$\n",
    "f(x) = x - \\cos(x) = 0\n",
    "$$\n",
    "solved through the fixed point iteration\n",
    "$$\n",
    "x_{n+1} = \\cos(x_{n})\n",
    "$$"
   ]
  },
  {
   "cell_type": "code",
   "execution_count": 24,
   "metadata": {},
   "outputs": [],
   "source": [
    "import math\n",
    "def g(x):\n",
    "  '''Function for the fixed point iteration\n",
    "\n",
    "  :param x: input\n",
    "  :type x: double or array\n",
    "  :return: function at x\n",
    "  :rtype: double or array\n",
    "  '''\n",
    "  return math.cos(x)\n",
    "\n",
    "def fixed_point(g,p0,tol=1.0e-6,it_max=1000):\n",
    "  '''_summary_\n",
    "\n",
    "  :param func: function g defining the fixed point iteration\n",
    "  :type func: function\n",
    "  :param p0: intial fixed point approximation\n",
    "  :type p0: double\n",
    "  :param tol: relative error tolerance, defaults to 1.0e-6\n",
    "  :type tol: double, optional\n",
    "  :param it_max: maximum allowable number of iterations, defaults to 1000\n",
    "  :type it_max: int, optional\n",
    "  :return: desired approximation\n",
    "  :rtype: double\n",
    "  '''\n",
    "  seq = []\n",
    "  it_count = 1\n",
    "  while(it_count <= it_max):\n",
    "    p=g(p0)\n",
    "    # print('Iteration %d, approx: %e',it_count,p)\n",
    "    seq.append(p)\n",
    "    if(math.fabs(p-p0)/math.fabs(p) < tol):\n",
    "      return seq\n",
    "    else:\n",
    "      p0=p\n",
    "      it_count += 1\n",
    "  raise Exception(\"Not converged within the maximum number of iterations\")"
   ]
  },
  {
   "cell_type": "markdown",
   "metadata": {},
   "source": [
    "Compute an approximation to the root using a relative error tolerance of 1.0e-6"
   ]
  },
  {
   "cell_type": "code",
   "execution_count": 25,
   "metadata": {},
   "outputs": [
    {
     "name": "stdout",
     "output_type": "stream",
     "text": [
      "[0.7071067811865476, 0.7602445970756301, 0.7246674808891262, 0.7487198857894842, 0.7325608445922418, 0.7434642113152937, 0.7361282565008519, 0.7410736870837102, 0.7377441589925746, 0.7399877647958709, 0.7384768087245538, 0.7394947711319744, 0.7388091341840698, 0.7392710213301092, 0.7389599039762518, 0.7391694833413742, 0.7390283113262729, 0.7391234079298636, 0.7390593503655667, 0.7391025006071364, 0.7390734342195471, 0.7390930137487571, 0.7390798247699841, 0.7390887090372742, 0.7390827244936455, 0.739086755756804, 0.7390840402506189, 0.739085869448782, 0.7390846372791368, 0.7390854672835412, 0.7390849081826397]\n"
     ]
    }
   ],
   "source": [
    "seq = fixed_point(g,math.pi/4.0)\n",
    "print(seq)"
   ]
  },
  {
   "cell_type": "markdown",
   "metadata": {},
   "source": [
    "Compute a better approximation to the root that can be used to extimate the error of the two sequences"
   ]
  },
  {
   "cell_type": "code",
   "execution_count": 26,
   "metadata": {},
   "outputs": [
    {
     "name": "stdout",
     "output_type": "stream",
     "text": [
      "Close approximation:  0.7390851332151609\n"
     ]
    }
   ],
   "source": [
    "p_best = fixed_point(g,math.pi/4.0,tol=1.0e-15)[-1]\n",
    "print('Close approximation: ',p_best)"
   ]
  },
  {
   "cell_type": "code",
   "execution_count": 27,
   "metadata": {},
   "outputs": [],
   "source": [
    "def gen_aitken_sequence(p):\n",
    "  '''Generate Aitken accelerated sequence\n",
    "\n",
    "  :param p: _description_\n",
    "  :type p: _type_\n",
    "  :return: _description_\n",
    "  :rtype: _type_\n",
    "  '''\n",
    "  atk_seq = []\n",
    "  for n in range(len(p)-2):\n",
    "    delta_pn = p[n+1] - p[n]\n",
    "    delta_sqr_pn = p[n+2] - 2*p[n+1] + p[n]\n",
    "    atk_p = p[n] - (delta_pn**2)/delta_sqr_pn\n",
    "    atk_seq.append(atk_p)\n",
    "  return atk_seq"
   ]
  },
  {
   "cell_type": "code",
   "execution_count": 28,
   "metadata": {},
   "outputs": [
    {
     "name": "stdout",
     "output_type": "stream",
     "text": [
      "[0.73893487834449, 0.7390180104273119, 0.7390543840630782, 0.7390712760581097, 0.7390788176239126, 0.7390822762730661, 0.7390838342400777, 0.7390845446156391, 0.7390848658895952, 0.7390850119912057, 0.7390850781863156, 0.7390851082527261, 0.7390851218862176, 0.7390851280752777, 0.7390851308827207, 0.7390851321568703, 0.7390851327349393, 0.7390851329972644, 0.7390851331162878, 0.7390851331702973, 0.7390851331948036, 0.7390851332059236, 0.7390851332109692, 0.7390851332132587, 0.7390851332142977, 0.7390851332147691, 0.7390851332149829, 0.7390851332150801, 0.739085133215124]\n"
     ]
    }
   ],
   "source": [
    "atk_seq = gen_aitken_sequence(seq)\n",
    "print(atk_seq)"
   ]
  },
  {
   "cell_type": "code",
   "execution_count": 29,
   "metadata": {},
   "outputs": [
    {
     "name": "stdout",
     "output_type": "stream",
     "text": [
      "   it   Abs Err FP Abs Err Aitken\n",
      "    1    3.198e-02    1.503e-04\n",
      "    2    2.116e-02    6.712e-05\n",
      "    3    1.442e-02    3.075e-05\n",
      "    4    9.635e-03    1.386e-05\n",
      "    5    6.524e-03    6.316e-06\n",
      "    6    4.379e-03    2.857e-06\n",
      "    7    2.957e-03    1.299e-06\n",
      "    8    1.989e-03    5.886e-07\n",
      "    9    1.341e-03    2.673e-07\n",
      "   10    9.026e-04    1.212e-07\n",
      "   11    6.083e-04    5.503e-08\n",
      "   12    4.096e-04    2.496e-08\n",
      "   13    2.760e-04    1.133e-08\n",
      "   14    1.859e-04    5.140e-09\n",
      "   15    1.252e-04    2.332e-09\n",
      "   16    8.435e-05    1.058e-09\n",
      "   17    5.682e-05    4.802e-10\n",
      "   18    3.827e-05    2.179e-10\n",
      "   19    2.578e-05    9.887e-11\n",
      "   20    1.737e-05    4.486e-11\n",
      "   21    1.170e-05    2.036e-11\n",
      "   22    7.881e-06    9.237e-12\n",
      "   23    5.308e-06    4.192e-12\n",
      "   24    3.576e-06    1.902e-12\n",
      "   25    2.409e-06    8.632e-13\n",
      "   26    1.623e-06    3.918e-13\n",
      "   27    1.093e-06    1.780e-13\n",
      "   28    7.362e-07    8.082e-14\n",
      "   29    4.959e-07    3.686e-14\n"
     ]
    }
   ],
   "source": [
    "print('%5s %12s %12s' % ('it','Abs Err FP','Abs Err Aitken'))\n",
    "for loopA in range(len(atk_seq)):\n",
    "  print('%5d %12.3e %12.3e' % (loopA+1,math.fabs(seq[loopA]-p_best),math.fabs(atk_seq[loopA]-p_best)))"
   ]
  },
  {
   "cell_type": "code",
   "execution_count": null,
   "metadata": {},
   "outputs": [],
   "source": []
  }
 ],
 "metadata": {
  "interpreter": {
   "hash": "916dbcbb3f70747c44a77c7bcd40155683ae19c65e1c03b4aa3499c5328201f1"
  },
  "kernelspec": {
   "display_name": "Python 3.8.10 64-bit",
   "language": "python",
   "name": "python3"
  },
  "language_info": {
   "codemirror_mode": {
    "name": "ipython",
    "version": 3
   },
   "file_extension": ".py",
   "mimetype": "text/x-python",
   "name": "python",
   "nbconvert_exporter": "python",
   "pygments_lexer": "ipython3",
   "version": "3.8.10"
  },
  "orig_nbformat": 4
 },
 "nbformat": 4,
 "nbformat_minor": 2
}
