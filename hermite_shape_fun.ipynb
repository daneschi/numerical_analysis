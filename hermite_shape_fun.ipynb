{
 "cells": [
  {
   "cell_type": "markdown",
   "metadata": {},
   "source": [
    "### Hermite interpolating polynomials\n",
    "We first construct the Hermite basis functions, expressed as\n",
    "$$\n",
    "H_{n,j}(x) = \\left[1 - 2\\,(x-x_{j})\\,L'_{n,j}(x_{j})\\right]\\,L^{2}_{n,j}(x),\n",
    "$$\n",
    "and \n",
    "$$\n",
    "\\widehat{H}_{n,j}(x) = (x-x_{j})\\,L^{2}_{n,j}(x)\n",
    "$$"
   ]
  },
  {
   "cell_type": "markdown",
   "metadata": {},
   "source": [
    "First we re-use the function to generate the Lagrange basis functions"
   ]
  },
  {
   "cell_type": "code",
   "execution_count": 23,
   "metadata": {},
   "outputs": [],
   "source": [
    "import numpy as np\n",
    "import matplotlib.pyplot as plt"
   ]
  },
  {
   "cell_type": "code",
   "execution_count": 24,
   "metadata": {},
   "outputs": [],
   "source": [
    "def f(x):\n",
    "  return np.sin(x)\n",
    "def f_prime(x):\n",
    "  return np.cos(x)"
   ]
  },
  {
   "cell_type": "code",
   "execution_count": 55,
   "metadata": {},
   "outputs": [],
   "source": [
    "def lagrange_sf(x,k,node_x):\n",
    "  '''Evaluates the generic Lagrange shape function\n",
    "\n",
    "  :param x: the locations where to evaluate the shape function\n",
    "  :type x: double or np.array\n",
    "  :param k: the function to be evaluated from 0 to len(node_x)-1. This is 1.0 at x_k and zero at the other points.\n",
    "  :type k: int\n",
    "  :param node_x: the x locations where the values of f are known. \n",
    "  :type node_x: list or np.array containing double x locations\n",
    "  :raises Exception: Generic exception when k has an invalid range\n",
    "  :return: the Lagrange shape functions evaluated at x.\n",
    "  :rtype: double, list or np.array, depending on x and node_x.\n",
    "  '''\n",
    "  # Polynomial order\n",
    "  n = len(node_x)-1\n",
    "  if(k < 0)or(k > n):\n",
    "    raise Exception(\"ERROR: invalid k\")\n",
    "  else:\n",
    "    # Construct Lagrange shape functions    \n",
    "    res = np.ones(len(x))\n",
    "    for j in range(n+1):\n",
    "      if(j != k):\n",
    "        res *= (x-node_x[j])/(node_x[k]-node_x[j])\n",
    "  return res"
   ]
  },
  {
   "cell_type": "markdown",
   "metadata": {},
   "source": [
    "Additionally we need a way to generate the derivative $L'_{n,j}(x_{j})$ as discussed in class. \n",
    "Remember that \n",
    "$$\n",
    "L'_{n,j}(x_{j}) = \\sum_{k=0,k\\ne j}^{n}\\,\\dfrac{1}{x_{j} - x_{k}}.\n",
    "$$"
   ]
  },
  {
   "cell_type": "code",
   "execution_count": 107,
   "metadata": {},
   "outputs": [],
   "source": [
    "def lagrange_prime(j,node_x):\n",
    "  '''Eval the derivative of the j-th Lagrange polynomial at xj\n",
    "\n",
    "  :param j: Basis id\n",
    "  :type j: int\n",
    "  :param node_x: x coordinate at the nodes\n",
    "  :type node_x: list or np.array\n",
    "  :raises Exception: exception for invalid basis id j\n",
    "  :return: the value of the derivative\n",
    "  :rtype: double\n",
    "  '''\n",
    "  n = len(node_x)-1\n",
    "  if(j < 0)or(j > n):\n",
    "      raise Exception(\"ERROR: Invalid shape function number j\")\n",
    "  res = 0.0\n",
    "  for k in range(n+1):\n",
    "    if(k != j):\n",
    "      res += 1.0/(node_x[j]-node_x[k])\n",
    "  # return \n",
    "  return res"
   ]
  },
  {
   "cell_type": "markdown",
   "metadata": {},
   "source": [
    "The next function computed the shape function \n",
    "$$\n",
    "H_{n,j}(x) = \\left[1 - 2\\,(x-x_{j})\\,L'_{n,j}(x_{j})\\right]\\,L^{2}_{n,j}(x)\n",
    "$$\n"
   ]
  },
  {
   "cell_type": "code",
   "execution_count": 79,
   "metadata": {},
   "outputs": [],
   "source": [
    "def hermite_sf1(x,j,node_x):\n",
    "  '''The Hermite shape functions of first type.\n",
    "  The j-th function should be zero at all nodes except xj.\n",
    "  In addition all first derivatives should be zero at the nodes.\n",
    "\n",
    "  :param x: x coordinates where to evaluate the basis function\n",
    "  :type x: list or np.array\n",
    "  :param j: basis function id\n",
    "  :type j: int\n",
    "  :param node_x: x coordinates at the nodes\n",
    "  :type node_x: list or np.array\n",
    "  :return: the shape function at the locations x\n",
    "  :rtype: list or np.array\n",
    "  '''\n",
    "  l_prime = lagrange_prime(j,node_x)\n",
    "  l_sf = lagrange_sf(x,j,node_x)\n",
    "  return (1.0 - 2.0*(x-node_x[j])*l_prime)*(l_sf**2)"
   ]
  },
  {
   "cell_type": "markdown",
   "metadata": {},
   "source": [
    "Plot the shape function $H_{n,j}(x)$. \n",
    "This function should have all derivatives equal to zeros at the nodes and should be equal to zero at all the nodes except node $x_{j}$."
   ]
  },
  {
   "cell_type": "code",
   "execution_count": 105,
   "metadata": {},
   "outputs": [
    {
     "data": {
      "image/png": "[encoded data removed]",
      "text/plain": [
       "<Figure size 432x288 with 1 Axes>"
      ]
     },
     "metadata": {
      "needs_background": "light"
     },
     "output_type": "display_data"
    }
   ],
   "source": [
    "# Get values and derivatives from function f\n",
    "node_x = np.array([0,1,2,3])\n",
    "node_y = f(node_x)\n",
    "node_y_prime = f_prime(node_x)\n",
    "\n",
    "# Set the x values\n",
    "x = np.linspace(0,3,500)\n",
    "sf_id = 0\n",
    "hermite_y = hermite_sf1(x,sf_id,node_x)\n",
    "\n",
    "plt.axis('equal')\n",
    "plt.plot(node_x,np.zeros(len(node_x)),'ro')\n",
    "plt.plot(node_x,np.ones(len(node_x)),'bo')\n",
    "plt.plot(x,hermite_y)\n",
    "plt.show()"
   ]
  },
  {
   "cell_type": "markdown",
   "metadata": {},
   "source": [
    "We also compute the second type of shape function\n",
    "$$\n",
    "\\widehat{H}_{n,j}(x) = (x-x_{j})\\,L^{2}_{n,j}(x)\n",
    "$$"
   ]
  },
  {
   "cell_type": "code",
   "execution_count": 85,
   "metadata": {},
   "outputs": [],
   "source": [
    "def hermite_sf2(x,j,node_x):\n",
    "  '''The Hermite shape functions of second type.\n",
    "  The j-th function should be zero at all nodes.\n",
    "  In addition, all first derivatives should be zero at the nodes except 1 at xj.\n",
    "\n",
    "  :param x: x locations for shape function evaluation\n",
    "  :type x: list or np.array\n",
    "  :param j: shape function id\n",
    "  :type j: int\n",
    "  :param node_x: x coordinates at the nodes\n",
    "  :type node_x: list or np.arrray\n",
    "  :return: the shape functions at the locations x\n",
    "  :rtype: list or np.array\n",
    "  '''\n",
    "  l_sf = lagrange_sf(x,j,node_x)\n",
    "  return (x-node_x[j])*(l_sf**2)"
   ]
  },
  {
   "cell_type": "code",
   "execution_count": 94,
   "metadata": {},
   "outputs": [
    {
     "data": {
      "image/png": "[encoded data removed]",
      "text/plain": [
       "<Figure size 432x288 with 1 Axes>"
      ]
     },
     "metadata": {
      "needs_background": "light"
     },
     "output_type": "display_data"
    }
   ],
   "source": [
    "plt.axis('equal')\n",
    "plt.plot(node_x,np.zeros(len(node_x)),'ro')\n",
    "plt.plot(x,hermite_sf2(x,0,node_x))\n",
    "plt.show()"
   ]
  },
  {
   "cell_type": "markdown",
   "metadata": {},
   "source": [
    "Assemble the Hermite interpolatory polynomial from the two shape functions defined above"
   ]
  },
  {
   "cell_type": "code",
   "execution_count": 87,
   "metadata": {},
   "outputs": [],
   "source": [
    "def hermite_int(x,node_x,node_y,node_y_prime):\n",
    "  '''Generates the Hermite osculating polynomial\n",
    "\n",
    "  :param x: locations where the Hermite polynomial need to be evaluated\n",
    "  :type x: list or np.array\n",
    "  :param node_x: x coordinates at the nodes\n",
    "  :type node_x: list or np.array\n",
    "  :param node_y: y values at the nodes\n",
    "  :type node_y: list ot np.array\n",
    "  :param node_y_prime: function derivatives at the nodes\n",
    "  :type node_y_prime: list ot np.array\n",
    "  :return: the Hermite osculating polynomial at the locations x\n",
    "  :rtype: list or np.array\n",
    "  '''\n",
    "  n = len(node_x)-1\n",
    "  res = np.zeros(len(x))\n",
    "  for j in range(n+1):\n",
    "    res += hermite_sf1(x,j,node_x)*node_y[j] + hermite_sf2(x,j,node_x)*node_y_prime[j]\n",
    "  return res"
   ]
  },
  {
   "cell_type": "markdown",
   "metadata": {},
   "source": [
    "Compare Hermite interpolating polynomial and original function"
   ]
  },
  {
   "cell_type": "code",
   "execution_count": 106,
   "metadata": {},
   "outputs": [
    {
     "data": {
      "image/png": "[encoded data removed]",
      "text/plain": [
       "<Figure size 432x288 with 1 Axes>"
      ]
     },
     "metadata": {
      "needs_background": "light"
     },
     "output_type": "display_data"
    }
   ],
   "source": [
    "# Get values and derivatives from function f\n",
    "node_x = np.array([0,1.0,2.0,3.0])\n",
    "node_y = f(node_x)\n",
    "node_y_prime = f_prime(node_x)\n",
    "\n",
    "# Set the x values\n",
    "x = np.linspace(0,3,100)\n",
    "sf_id = 2\n",
    "\n",
    "plt.plot(node_x,f(node_x),'ro')\n",
    "plt.plot(x,hermite_int(x,node_x,node_y,node_y_prime),label='Hermite',alpha=0.6)\n",
    "plt.plot(x,f(x),'k--',label='Sin function',alpha=0.6)\n",
    "plt.legend()\n",
    "plt.show()"
   ]
  },
  {
   "cell_type": "code",
   "execution_count": null,
   "metadata": {},
   "outputs": [],
   "source": []
  }
 ],
 "metadata": {
  "interpreter": {
   "hash": "916dbcbb3f70747c44a77c7bcd40155683ae19c65e1c03b4aa3499c5328201f1"
  },
  "kernelspec": {
   "display_name": "Python 3.8.10 64-bit",
   "language": "python",
   "name": "python3"
  },
  "language_info": {
   "codemirror_mode": {
    "name": "ipython",
    "version": 3
   },
   "file_extension": ".py",
   "mimetype": "text/x-python",
   "name": "python",
   "nbconvert_exporter": "python",
   "pygments_lexer": "ipython3",
   "version": "3.8.10"
  },
  "orig_nbformat": 4
 },
 "nbformat": 4,
 "nbformat_minor": 2
}
