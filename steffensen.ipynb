{
 "cells": [
  {
   "cell_type": "markdown",
   "metadata": {},
   "source": [
    "### Steffensen's Method\n",
    "It restarts a fixed point iteration using Aitken's accelerated sequence"
   ]
  },
  {
   "cell_type": "markdown",
   "metadata": {},
   "source": [
    "Consider the problem of finding a fixed point of the equation\n",
    "$$\n",
    "f(x) = x - \\frac{1}{2}\\,x^{2}\n",
    "$$\n",
    "using the fixed point iteration\n",
    "$$\n",
    "x_{n+1} = g(x_{n}) = \\frac{1}{2}\\,x_{n}^{2}\n",
    "$$\n",
    "where the exact solution is $x=2$."
   ]
  },
  {
   "cell_type": "code",
   "execution_count": 6,
   "metadata": {},
   "outputs": [],
   "source": [
    "import math\n",
    "def g(x):\n",
    "  return 0.5*x**2"
   ]
  },
  {
   "cell_type": "code",
   "execution_count": 7,
   "metadata": {},
   "outputs": [],
   "source": [
    "def steffensen(g,p0,tol=1.0e-6,it_max=1000):\n",
    "  stf_seq = []\n",
    "  it_count = 1\n",
    "  while(it_count <= it_max):\n",
    "    p1 = g(p0)\n",
    "    p2 = g(p1)\n",
    "    p = p0 - ((p1-p0)**2)/(p2-2*p1+p0)\n",
    "    stf_seq.append(p)\n",
    "    if(math.fabs(p-p0)/math.fabs(p) < tol):\n",
    "      return stf_seq\n",
    "    else: \n",
    "      it_count += 1\n",
    "      p0=p\n",
    "  raise Exception(\"Not converged within the maximum allowable number of iterations\")"
   ]
  },
  {
   "cell_type": "code",
   "execution_count": 8,
   "metadata": {},
   "outputs": [
    {
     "name": "stdout",
     "output_type": "stream",
     "text": [
      "   it     Abs Err \n",
      "    1    7.000e-01\n",
      "    2    2.650e-01\n",
      "    3    5.292e-02\n",
      "    4    2.627e-03\n",
      "    5    6.880e-06\n",
      "    6    4.733e-11\n",
      "    7    0.000e+00\n"
     ]
    }
   ],
   "source": [
    "p0 = 1.5\n",
    "stf_seq = steffensen(g,p0)\n",
    "print('%5s %12s' % ('it','Abs Err '))\n",
    "for loopA in range(len(stf_seq)):\n",
    "  print('%5d %12.3e' % (loopA+1,math.fabs(stf_seq[loopA]-2.0)))"
   ]
  },
  {
   "cell_type": "markdown",
   "metadata": {},
   "source": [
    "The Steffensen's method provides quadratic convergence, without the need to compute any derivatives."
   ]
  },
  {
   "cell_type": "markdown",
   "metadata": {},
   "source": []
  }
 ],
 "metadata": {
  "interpreter": {
   "hash": "916dbcbb3f70747c44a77c7bcd40155683ae19c65e1c03b4aa3499c5328201f1"
  },
  "kernelspec": {
   "display_name": "Python 3.8.10 64-bit",
   "language": "python",
   "name": "python3"
  },
  "language_info": {
   "codemirror_mode": {
    "name": "ipython",
    "version": 3
   },
   "file_extension": ".py",
   "mimetype": "text/x-python",
   "name": "python",
   "nbconvert_exporter": "python",
   "pygments_lexer": "ipython3",
   "version": "3.8.10"
  },
  "orig_nbformat": 4
 },
 "nbformat": 4,
 "nbformat_minor": 2
}
