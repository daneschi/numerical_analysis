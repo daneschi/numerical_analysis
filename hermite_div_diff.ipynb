{
 "cells": [
  {
   "cell_type": "markdown",
   "metadata": {},
   "source": [
    "### Hermite interpolation with divided differences"
   ]
  },
  {
   "cell_type": "code",
   "execution_count": 1,
   "metadata": {},
   "outputs": [],
   "source": [
    "import numpy as np\n",
    "import matplotlib.pyplot as plt"
   ]
  },
  {
   "cell_type": "code",
   "execution_count": 3,
   "metadata": {},
   "outputs": [],
   "source": [
    "def f(x):\n",
    "  return np.sin(x)\n",
    "def f_prime(x):\n",
    "  return np.cos(x)"
   ]
  },
  {
   "cell_type": "code",
   "execution_count": 7,
   "metadata": {},
   "outputs": [],
   "source": [
    "def hermite_div_diff(x,node_x,node_y,node_y_prime):\n",
    "  '''Build the Hermite osculating polynomial using the divided difference approach\n",
    "\n",
    "  :param x: locations where to evaluate the resulting Hermite polynomial\n",
    "  :type x: numpy array of doubles\n",
    "  :param node_x: x coordinate of the locations to interpolate\n",
    "  :type node_x: list or numpy array of doubles\n",
    "  :param node_y: values f(x) to interpolate\n",
    "  :type node_y: list or numpy array of doubles\n",
    "  :param node_y_prime: values of the first derivative f'(x) to construct the osculating polynomial\n",
    "  :type node_y_prime: list or numpy array of doubles\n",
    "  :return: the osculating Hermite polynomial at the locations x\n",
    "  :rtype: numpy array of doubles\n",
    "  '''\n",
    "  n = len(node_x)-1\n",
    "  # Initialize storage matrix\n",
    "  z = np.zeros(2*n+2)\n",
    "  Q = np.zeros((2*n+2,2*n+2))\n",
    "\n",
    "  # Fill the first two columns of the Q matrix with the \n",
    "  # zero-th and first order divided differences\n",
    "  for i in range(n+1):\n",
    "    # Set the z sequecne\n",
    "    z[2*i] = node_x[i]\n",
    "    z[2*i+1] = node_x[i]\n",
    "    # The first column of Q has the function values\n",
    "    Q[2*i,0] = node_y[i]\n",
    "    Q[2*i+1,0] = node_y[i]\n",
    "    # The second column has the derivatives every other entry\n",
    "    Q[2*i+1,1] = node_y_prime[i]\n",
    "    if(i != 0):\n",
    "      Q[2*i,1] = (Q[2*i,0]-Q[2*i-1,0])/(z[2*i]-z[2*i-1])\n",
    "  \n",
    "  # Complete the matrix with the other divided differences\n",
    "  for i in range(2,2*n+2):\n",
    "    for j in range(2,i+1):\n",
    "      Q[i,j] = (Q[i,j-1]-Q[i-1,j-1])/(z[i]-z[i-j])\n",
    "\n",
    "  # Generate the interpolating polynomial\n",
    "  poly = np.zeros(len(x))\n",
    "  for i in range(2*n+2):\n",
    "    # Compute the product of the x\n",
    "    prod_x = 1.0\n",
    "    for j in range(i):\n",
    "      prod_x *= (x-z[j])\n",
    "    poly += Q[i,i]*prod_x\n",
    "  # Return the polynomial\n",
    "  return poly"
   ]
  },
  {
   "cell_type": "code",
   "execution_count": 8,
   "metadata": {},
   "outputs": [
    {
     "data": {
      "image/png": "[encoded data removed]",
      "text/plain": [
       "<Figure size 432x288 with 1 Axes>"
      ]
     },
     "metadata": {
      "needs_background": "light"
     },
     "output_type": "display_data"
    }
   ],
   "source": [
    "# Get values and derivatives from function f\n",
    "node_x = np.array([0,1.0,2.0,3.0])\n",
    "node_y = f(node_x)\n",
    "node_y_prime = f_prime(node_x)\n",
    "\n",
    "# Set the x values\n",
    "x = np.linspace(0,3,100)\n",
    "sf_id = 2\n",
    "\n",
    "plt.plot(node_x,f(node_x),'ro')\n",
    "plt.plot(x,hermite_div_diff(x,node_x,node_y,node_y_prime),label='Hermite',alpha=0.6)\n",
    "plt.plot(x,f(x),'k--',label='Sin function',alpha=0.6)\n",
    "plt.legend()\n",
    "plt.show()"
   ]
  }
 ],
 "metadata": {
  "interpreter": {
   "hash": "916dbcbb3f70747c44a77c7bcd40155683ae19c65e1c03b4aa3499c5328201f1"
  },
  "kernelspec": {
   "display_name": "Python 3.8.10 64-bit",
   "language": "python",
   "name": "python3"
  },
  "language_info": {
   "codemirror_mode": {
    "name": "ipython",
    "version": 3
   },
   "file_extension": ".py",
   "mimetype": "text/x-python",
   "name": "python",
   "nbconvert_exporter": "python",
   "pygments_lexer": "ipython3",
   "version": "3.8.10"
  },
  "orig_nbformat": 4
 },
 "nbformat": 4,
 "nbformat_minor": 2
}
