{
 "cells": [
  {
   "cell_type": "markdown",
   "metadata": {},
   "source": [
    "### Polynomial Interpolation using Lagrange shape functions"
   ]
  },
  {
   "cell_type": "markdown",
   "metadata": {},
   "source": [
    "Define the function to interpolate"
   ]
  },
  {
   "cell_type": "code",
   "execution_count": 3,
   "metadata": {},
   "outputs": [],
   "source": [
    "import numpy as np\n",
    "import matplotlib.pyplot as plt"
   ]
  },
  {
   "cell_type": "code",
   "execution_count": 4,
   "metadata": {},
   "outputs": [],
   "source": [
    "def f(x):\n",
    "  '''The function to be interpolated\n",
    "\n",
    "  :param x: independent variable\n",
    "  :type x: double or np.array of doubles\n",
    "  :return: the value of f evaluated at x\n",
    "  :rtype: double or np.array\n",
    "  '''\n",
    "  return 1.0/(1.0+x)"
   ]
  },
  {
   "cell_type": "markdown",
   "metadata": {},
   "source": [
    "Construct the k-th Lagrange shape function from the nodes x coordinates at the x locations (np.array)"
   ]
  },
  {
   "cell_type": "code",
   "execution_count": 13,
   "metadata": {},
   "outputs": [],
   "source": [
    "def lagrange_sf(x,k,node_x):\n",
    "  '''Evaluates the generic Lagrange shape function\n",
    "\n",
    "  :param x: the locations where to evaluate the shape function\n",
    "  :type x: double or np.array\n",
    "  :param k: the function to be evaluated from 0 to len(node_x)-1. This is 1.0 at x_k and zero at the other points.\n",
    "  :type k: int\n",
    "  :param node_x: the x locations where the values of f are known. \n",
    "  :type node_x: list or np.array containing double x locations\n",
    "  :raises Exception: Generic exception when k has an invalid range\n",
    "  :return: the Lagrange shape functions evaluated at x.\n",
    "  :rtype: double, list or np.array, depending on x and node_x.\n",
    "  '''\n",
    "  # Polynomial order\n",
    "  n = len(node_x)-1\n",
    "  if(k < 0)or(k > n):\n",
    "    raise Exception(\"ERROR: invalid k\")\n",
    "  else:\n",
    "    # Construct Lagrange shape functions    \n",
    "    res = np.ones(len(x))\n",
    "    for j in range(n+1):\n",
    "      if(j == k):\n",
    "        continue\n",
    "      else:\n",
    "        res *= (x-node_x[j])/(node_x[k]-node_x[j])\n",
    "  return res"
   ]
  },
  {
   "cell_type": "markdown",
   "metadata": {},
   "source": [
    "Plot the $k$-th Lagrange shape function, observing that it is equalt to $1$ at $x_{k}$.\n",
    "It is also equal to $0$ at $x_{i},\\,\\forall\\,i\\ne k$."
   ]
  },
  {
   "cell_type": "code",
   "execution_count": 14,
   "metadata": {},
   "outputs": [
    {
     "data": {
      "image/png": "[encoded data removed]",
      "text/plain": [
       "<Figure size 432x288 with 1 Axes>"
      ]
     },
     "metadata": {
      "needs_background": "light"
     },
     "output_type": "display_data"
    }
   ],
   "source": [
    "node_x = np.array([0,1.0,2.0])\n",
    "node_y = f(node_x)\n",
    "\n",
    "x = np.linspace(0,2,100)\n",
    "\n",
    "plt.plot(node_x,[0,0,0],'ro')\n",
    "plt.plot(node_x,[1,1,1],'bo')\n",
    "plt.plot(x,lagrange_sf(x,2,node_x))\n",
    "plt.show()"
   ]
  },
  {
   "cell_type": "markdown",
   "metadata": {},
   "source": [
    "Now construct the complete Lagrange interpolating polynomial, as a linear combination of shape functions and values of $f$ at $x_{0},x_{1},\\dots,x_{n}$."
   ]
  },
  {
   "cell_type": "code",
   "execution_count": 15,
   "metadata": {},
   "outputs": [],
   "source": [
    "def lagrange_int(x,node_x,node_y):\n",
    "  '''Constructs the Lagrange polynomial interpolant\n",
    "\n",
    "  :param x: the x locations where the interpolanting polynomial needs to be evaluated\n",
    "  :type x: double or np.array\n",
    "  :param node_x: the x coordinates of the known locations. \n",
    "  :type node_x: list or np.array\n",
    "  :param node_y: the y coordinates of the known locations. \n",
    "  :type node_y: list or np.array\n",
    "  :return: the Lagrange polynomial evaluated at x\n",
    "  :rtype: list or np.array\n",
    "  '''\n",
    "  n = len(node_x)-1\n",
    "  res = np.zeros(len(x))\n",
    "  for j in range(n+1):\n",
    "    res += lagrange_sf(x,j,node_x)*node_y[j]\n",
    "  return res"
   ]
  },
  {
   "cell_type": "markdown",
   "metadata": {},
   "source": [
    "Compare the interpolating polynomial and the original function."
   ]
  },
  {
   "cell_type": "code",
   "execution_count": 16,
   "metadata": {},
   "outputs": [
    {
     "data": {
      "image/png": "[encoded data removed]",
      "text/plain": [
       "<Figure size 432x288 with 1 Axes>"
      ]
     },
     "metadata": {
      "needs_background": "light"
     },
     "output_type": "display_data"
    }
   ],
   "source": [
    "node_x = np.array([0.0,1.0,2.0])\n",
    "node_y = f(node_x)\n",
    "\n",
    "x = np.linspace(0,2,100)\n",
    "\n",
    "plt.plot(node_x,[0,0,0],'ro')\n",
    "plt.plot(node_x,[1,1,1],'bo')\n",
    "plt.plot(node_x,node_y,'go')\n",
    "plt.plot(x,f(x),'k--')\n",
    "plt.plot(x,lagrange_int(x,node_x,node_y))\n",
    "plt.show()"
   ]
  },
  {
   "cell_type": "code",
   "execution_count": null,
   "metadata": {},
   "outputs": [],
   "source": []
  }
 ],
 "metadata": {
  "interpreter": {
   "hash": "916dbcbb3f70747c44a77c7bcd40155683ae19c65e1c03b4aa3499c5328201f1"
  },
  "kernelspec": {
   "display_name": "Python 3.8.10 64-bit",
   "language": "python",
   "name": "python3"
  },
  "language_info": {
   "codemirror_mode": {
    "name": "ipython",
    "version": 3
   },
   "file_extension": ".py",
   "mimetype": "text/x-python",
   "name": "python",
   "nbconvert_exporter": "python",
   "pygments_lexer": "ipython3",
   "version": "3.8.10"
  },
  "orig_nbformat": 4
 },
 "nbformat": 4,
 "nbformat_minor": 2
}
