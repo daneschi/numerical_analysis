{
 "cells": [
  {
   "cell_type": "markdown",
   "metadata": {},
   "source": [
    "### Newton's Method"
   ]
  },
  {
   "cell_type": "code",
   "execution_count": 78,
   "metadata": {},
   "outputs": [],
   "source": [
    "import math\n",
    "import numpy as np\n",
    "import pandas as pd\n",
    "import matplotlib.pyplot as plt"
   ]
  },
  {
   "cell_type": "code",
   "execution_count": 79,
   "metadata": {},
   "outputs": [],
   "source": [
    "def print_iterations(it_list):\n",
    "  df = pd.DataFrame(it_list, columns=['it','p_n']) \n",
    "  pd.options.display.float_format = '{:,.9f}'.format\n",
    "  display(df)"
   ]
  },
  {
   "cell_type": "markdown",
   "metadata": {},
   "source": [
    "We choose to analyze the function $f(x) = \\cos(x) - x$ with $p_0=1/2$, $p_1=\\pi/4$"
   ]
  },
  {
   "cell_type": "code",
   "execution_count": 80,
   "metadata": {},
   "outputs": [],
   "source": [
    "def f(x):\n",
    "  return np.cos(x) - x\n",
    "\n",
    "def f_prime(x):\n",
    "  return -np.sin(x) - 1"
   ]
  },
  {
   "cell_type": "code",
   "execution_count": 85,
   "metadata": {},
   "outputs": [],
   "source": [
    "def newton(p0,tol=1.0e-6,it_max=100):\n",
    "  i = 1\n",
    "  it_list = []\n",
    "  it_list.append([0,p0])\n",
    "  while(i <= it_max):\n",
    "    p = p0 - f(p0)/f_prime(p0)\n",
    "    if math.fabs(p-p0)/math.fabs(p) < tol:\n",
    "      return p,it_list\n",
    "    it_list.append([i,p])      \n",
    "    i += 1\n",
    "    p0=p    \n",
    "  print((\"ERROR: Solution not found after {} iterations\").format(it_max))\n",
    "  return p0,it_list"
   ]
  },
  {
   "cell_type": "code",
   "execution_count": 86,
   "metadata": {},
   "outputs": [],
   "source": [
    "def secant(p0,p1,tol=1.0e-6,it_max=100):\n",
    "  i=2\n",
    "  q0=f(p0)\n",
    "  q1=f(p1)\n",
    "  it_list = []\n",
    "  it_list.append([0,p0])\n",
    "  it_list.append([1,p1])\n",
    "  while(i <= it_max):\n",
    "    p = p1-q1*(p1-p0)/(q1-q0)\n",
    "    if math.fabs(p-p1)/math.fabs(p) < tol:\n",
    "      return p,it_list\n",
    "    it_list.append([i,p])      \n",
    "    i += 1\n",
    "    p0=p1\n",
    "    q0=q1\n",
    "    p1=p\n",
    "    q1=f(p)    \n",
    "  print((\"ERROR: Solution not found after {} iterations\").format(it_max))\n",
    "  return p0,it_list    "
   ]
  },
  {
   "cell_type": "code",
   "execution_count": 87,
   "metadata": {},
   "outputs": [],
   "source": [
    "def false_position(p0,p1,tol=1.0e-6,it_max=100):\n",
    "  i=2\n",
    "  q0=f(p0)\n",
    "  q1=f(p1)\n",
    "  it_list = []\n",
    "  it_list.append([0,p0])\n",
    "  it_list.append([1,p1])\n",
    "  while(i <= it_max):\n",
    "    p = p1-q1*(p1-p0)/(q1-q0)\n",
    "    if math.fabs(p-p1)/math.fabs(p) < tol:\n",
    "      return p,it_list\n",
    "    it_list.append([i,p])      \n",
    "    i += 1\n",
    "    q = f(p)\n",
    "    if q*q1 < 0.0:\n",
    "        p0=p1\n",
    "        q0=q1\n",
    "    p1=p\n",
    "    q1=q\n",
    "  print((\"ERROR: Solution not found after {} iterations\").format(it_max))\n",
    "  return p0,it_list    "
   ]
  },
  {
   "cell_type": "code",
   "execution_count": 91,
   "metadata": {},
   "outputs": [
    {
     "data": {
      "text/html": [
       "<div>\n",
       "<style scoped>\n",
       "    .dataframe tbody tr th:only-of-type {\n",
       "        vertical-align: middle;\n",
       "    }\n",
       "\n",
       "    .dataframe tbody tr th {\n",
       "        vertical-align: top;\n",
       "    }\n",
       "\n",
       "    .dataframe thead th {\n",
       "        text-align: right;\n",
       "    }\n",
       "</style>\n",
       "<table border=\"1\" class=\"dataframe\">\n",
       "  <thead>\n",
       "    <tr style=\"text-align: right;\">\n",
       "      <th></th>\n",
       "      <th>it</th>\n",
       "      <th>p_n</th>\n",
       "    </tr>\n",
       "  </thead>\n",
       "  <tbody>\n",
       "    <tr>\n",
       "      <th>0</th>\n",
       "      <td>0</td>\n",
       "      <td>0.785398163</td>\n",
       "    </tr>\n",
       "    <tr>\n",
       "      <th>1</th>\n",
       "      <td>1</td>\n",
       "      <td>0.739536134</td>\n",
       "    </tr>\n",
       "    <tr>\n",
       "      <th>2</th>\n",
       "      <td>2</td>\n",
       "      <td>0.739085178</td>\n",
       "    </tr>\n",
       "    <tr>\n",
       "      <th>3</th>\n",
       "      <td>3</td>\n",
       "      <td>0.739085133</td>\n",
       "    </tr>\n",
       "  </tbody>\n",
       "</table>\n",
       "</div>"
      ],
      "text/plain": [
       "   it         p_n\n",
       "0   0 0.785398163\n",
       "1   1 0.739536134\n",
       "2   2 0.739085178\n",
       "3   3 0.739085133"
      ]
     },
     "metadata": {},
     "output_type": "display_data"
    }
   ],
   "source": [
    "# Set the intial approximations\n",
    "p0=1.0/2.0\n",
    "p1=math.pi/4.0\n",
    "\n",
    "p_newton,list_newton = newton(p1,tol=1.0e-15)\n",
    "print_iterations(list_newton)"
   ]
  },
  {
   "cell_type": "code",
   "execution_count": 92,
   "metadata": {},
   "outputs": [
    {
     "data": {
      "text/html": [
       "<div>\n",
       "<style scoped>\n",
       "    .dataframe tbody tr th:only-of-type {\n",
       "        vertical-align: middle;\n",
       "    }\n",
       "\n",
       "    .dataframe tbody tr th {\n",
       "        vertical-align: top;\n",
       "    }\n",
       "\n",
       "    .dataframe thead th {\n",
       "        text-align: right;\n",
       "    }\n",
       "</style>\n",
       "<table border=\"1\" class=\"dataframe\">\n",
       "  <thead>\n",
       "    <tr style=\"text-align: right;\">\n",
       "      <th></th>\n",
       "      <th>it</th>\n",
       "      <th>p_n</th>\n",
       "    </tr>\n",
       "  </thead>\n",
       "  <tbody>\n",
       "    <tr>\n",
       "      <th>0</th>\n",
       "      <td>0</td>\n",
       "      <td>0.500000000</td>\n",
       "    </tr>\n",
       "    <tr>\n",
       "      <th>1</th>\n",
       "      <td>1</td>\n",
       "      <td>0.785398163</td>\n",
       "    </tr>\n",
       "    <tr>\n",
       "      <th>2</th>\n",
       "      <td>2</td>\n",
       "      <td>0.736384139</td>\n",
       "    </tr>\n",
       "    <tr>\n",
       "      <th>3</th>\n",
       "      <td>3</td>\n",
       "      <td>0.739058139</td>\n",
       "    </tr>\n",
       "    <tr>\n",
       "      <th>4</th>\n",
       "      <td>4</td>\n",
       "      <td>0.739085149</td>\n",
       "    </tr>\n",
       "    <tr>\n",
       "      <th>5</th>\n",
       "      <td>5</td>\n",
       "      <td>0.739085133</td>\n",
       "    </tr>\n",
       "    <tr>\n",
       "      <th>6</th>\n",
       "      <td>6</td>\n",
       "      <td>0.739085133</td>\n",
       "    </tr>\n",
       "  </tbody>\n",
       "</table>\n",
       "</div>"
      ],
      "text/plain": [
       "   it         p_n\n",
       "0   0 0.500000000\n",
       "1   1 0.785398163\n",
       "2   2 0.736384139\n",
       "3   3 0.739058139\n",
       "4   4 0.739085149\n",
       "5   5 0.739085133\n",
       "6   6 0.739085133"
      ]
     },
     "metadata": {},
     "output_type": "display_data"
    }
   ],
   "source": [
    "p_secant,list_secant = secant(p0,p1,tol=1.0e-15)\n",
    "print_iterations(list_secant)"
   ]
  },
  {
   "cell_type": "code",
   "execution_count": 93,
   "metadata": {},
   "outputs": [
    {
     "data": {
      "text/html": [
       "<div>\n",
       "<style scoped>\n",
       "    .dataframe tbody tr th:only-of-type {\n",
       "        vertical-align: middle;\n",
       "    }\n",
       "\n",
       "    .dataframe tbody tr th {\n",
       "        vertical-align: top;\n",
       "    }\n",
       "\n",
       "    .dataframe thead th {\n",
       "        text-align: right;\n",
       "    }\n",
       "</style>\n",
       "<table border=\"1\" class=\"dataframe\">\n",
       "  <thead>\n",
       "    <tr style=\"text-align: right;\">\n",
       "      <th></th>\n",
       "      <th>it</th>\n",
       "      <th>p_n</th>\n",
       "    </tr>\n",
       "  </thead>\n",
       "  <tbody>\n",
       "    <tr>\n",
       "      <th>0</th>\n",
       "      <td>0</td>\n",
       "      <td>0.500000000</td>\n",
       "    </tr>\n",
       "    <tr>\n",
       "      <th>1</th>\n",
       "      <td>1</td>\n",
       "      <td>0.785398163</td>\n",
       "    </tr>\n",
       "    <tr>\n",
       "      <th>2</th>\n",
       "      <td>2</td>\n",
       "      <td>0.736384139</td>\n",
       "    </tr>\n",
       "    <tr>\n",
       "      <th>3</th>\n",
       "      <td>3</td>\n",
       "      <td>0.739058139</td>\n",
       "    </tr>\n",
       "    <tr>\n",
       "      <th>4</th>\n",
       "      <td>4</td>\n",
       "      <td>0.739084864</td>\n",
       "    </tr>\n",
       "    <tr>\n",
       "      <th>5</th>\n",
       "      <td>5</td>\n",
       "      <td>0.739085131</td>\n",
       "    </tr>\n",
       "    <tr>\n",
       "      <th>6</th>\n",
       "      <td>6</td>\n",
       "      <td>0.739085133</td>\n",
       "    </tr>\n",
       "  </tbody>\n",
       "</table>\n",
       "</div>"
      ],
      "text/plain": [
       "   it         p_n\n",
       "0   0 0.500000000\n",
       "1   1 0.785398163\n",
       "2   2 0.736384139\n",
       "3   3 0.739058139\n",
       "4   4 0.739084864\n",
       "5   5 0.739085131\n",
       "6   6 0.739085133"
      ]
     },
     "metadata": {},
     "output_type": "display_data"
    }
   ],
   "source": [
    "p_falsi,list_falsi = false_position(p0,p1,tol=1.0e-10)\n",
    "print_iterations(list_falsi)"
   ]
  },
  {
   "cell_type": "code",
   "execution_count": null,
   "metadata": {},
   "outputs": [],
   "source": []
  },
  {
   "cell_type": "code",
   "execution_count": null,
   "metadata": {},
   "outputs": [],
   "source": []
  }
 ],
 "metadata": {
  "interpreter": {
   "hash": "916dbcbb3f70747c44a77c7bcd40155683ae19c65e1c03b4aa3499c5328201f1"
  },
  "kernelspec": {
   "display_name": "Python 3.8.10 64-bit",
   "language": "python",
   "name": "python3"
  },
  "language_info": {
   "codemirror_mode": {
    "name": "ipython",
    "version": 3
   },
   "file_extension": ".py",
   "mimetype": "text/x-python",
   "name": "python",
   "nbconvert_exporter": "python",
   "pygments_lexer": "ipython3",
   "version": "3.8.10"
  },
  "orig_nbformat": 4
 },
 "nbformat": 4,
 "nbformat_minor": 2
}
